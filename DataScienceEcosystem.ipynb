{
 "cells": [
  {
   "cell_type": "markdown",
   "id": "89930496-9592-41a7-95dc-a1b7d86904a2",
   "metadata": {},
   "source": [
    "# Data Science Tools and Ecosystem"
   ]
  },
  {
   "cell_type": "markdown",
   "id": "4f84ba7a-f999-485d-b3c8-e00d8f299243",
   "metadata": {},
   "source": [
    "In this notebook, Data Science Tools and Ecosystem are summarized."
   ]
  },
  {
   "cell_type": "markdown",
   "id": "cfc35a26-5595-4fd2-a643-66ae13674e01",
   "metadata": {},
   "source": [
    "**Objectives:**\n",
    "- Some of the popular Data Scinece coding langugae \n",
    "- Different Libraries\n",
    "- Example of arithmetic expressions\n",
    "- Expression sytle such as Bold, Header Font Size, Ordered and Unordered List"
   ]
  },
  {
   "cell_type": "markdown",
   "id": "2919423d-5932-4f93-b1f9-9cee87dc5f17",
   "metadata": {
    "tags": []
   },
   "source": [
    "Some of the popular languages that Data Scientists use are:\n",
    "1. Python\n",
    "2. R\n",
    "3. Scala\n",
    "4. Matlab\n",
    "5. Julia"
   ]
  },
  {
   "cell_type": "markdown",
   "id": "8204549c-2441-428c-89af-4c9cfd70836d",
   "metadata": {
    "tags": []
   },
   "source": [
    "Some of the commonly used libraries used by Data Scientists include:\n",
    "1. Pandas \n",
    "2. Numpy \n",
    "3. Matplotlib \n",
    "4. Scikit"
   ]
  },
  {
   "cell_type": "markdown",
   "id": "132c5200-5400-46ec-bb0a-30fd1f664017",
   "metadata": {},
   "source": [
    "|Data Science Tools|\n",
    "|------------------|\n",
    "|Python|\n",
    "|R|\n",
    "|SQL|\n",
    "|Matlab|\n",
    "|Jupyter Notebook|\n",
    "|R-Studio|"
   ]
  },
  {
   "cell_type": "markdown",
   "id": "8cacebf8-f261-4091-9dc2-e65fbe79ef43",
   "metadata": {},
   "source": [
    "### Below are a few examples of evaluating arithmetic expressions in Python"
   ]
  },
  {
   "cell_type": "code",
   "execution_count": 9,
   "id": "6cd683a9-6748-43f5-8a0c-d2fdb80dc3ce",
   "metadata": {
    "tags": []
   },
   "outputs": [
    {
     "data": {
      "text/plain": [
       "17"
      ]
     },
     "execution_count": 9,
     "metadata": {},
     "output_type": "execute_result"
    }
   ],
   "source": [
    "9+8"
   ]
  },
  {
   "cell_type": "code",
   "execution_count": 10,
   "id": "65c69136-f5b8-4d73-a672-966d8280edd7",
   "metadata": {
    "tags": []
   },
   "outputs": [
    {
     "data": {
      "text/plain": [
       "0.5"
      ]
     },
     "execution_count": 10,
     "metadata": {},
     "output_type": "execute_result"
    }
   ],
   "source": [
    "4/8"
   ]
  },
  {
   "cell_type": "code",
   "execution_count": 12,
   "id": "6107099b-9981-4fae-8f7e-7d45fa2bf144",
   "metadata": {
    "tags": []
   },
   "outputs": [
    {
     "data": {
      "text/plain": [
       "0.8888888888888888"
      ]
     },
     "execution_count": 12,
     "metadata": {},
     "output_type": "execute_result"
    }
   ],
   "source": [
    "a=8\n",
    "b=9\n",
    "c=a/b\n",
    "c"
   ]
  },
  {
   "cell_type": "code",
   "execution_count": 13,
   "id": "cef84d75-62ff-42a6-bc17-0a04a61a78f4",
   "metadata": {
    "tags": []
   },
   "outputs": [
    {
     "data": {
      "text/plain": [
       "17"
      ]
     },
     "execution_count": 13,
     "metadata": {},
     "output_type": "execute_result"
    }
   ],
   "source": [
    "# This a simple arithmetic expression to mutiply then add integers\n",
    "(3*4)+5"
   ]
  },
  {
   "cell_type": "code",
   "execution_count": 15,
   "id": "a5dc203f-790f-41b0-b9ad-7b7762b3497a",
   "metadata": {
    "tags": []
   },
   "outputs": [
    {
     "data": {
      "text/plain": [
       "3.3333333333333335"
      ]
     },
     "execution_count": 15,
     "metadata": {},
     "output_type": "execute_result"
    }
   ],
   "source": [
    "# This will convert 200 minutes to hours by diving by 60\n",
    "200/60"
   ]
  },
  {
   "cell_type": "markdown",
   "id": "519fc27e-79dc-4bc1-aaa9-741a5f657e6b",
   "metadata": {},
   "source": [
    "## Author\n",
    "Vikas Patil"
   ]
  },
  {
   "cell_type": "code",
   "execution_count": null,
   "id": "792c472a-75d8-4c84-839d-4f73ce4718a8",
   "metadata": {},
   "outputs": [],
   "source": []
  }
 ],
 "metadata": {
  "kernelspec": {
   "display_name": "Python 3 (ipykernel)",
   "language": "python",
   "name": "python3"
  },
  "language_info": {
   "codemirror_mode": {
    "name": "ipython",
    "version": 3
   },
   "file_extension": ".py",
   "mimetype": "text/x-python",
   "name": "python",
   "nbconvert_exporter": "python",
   "pygments_lexer": "ipython3",
   "version": "3.11.3"
  }
 },
 "nbformat": 4,
 "nbformat_minor": 5
}
